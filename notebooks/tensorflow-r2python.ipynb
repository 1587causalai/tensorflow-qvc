{
 "cells": [
  {
   "cell_type": "markdown",
   "metadata": {},
   "source": [
    "# Tensorflow R to Python\n",
    "\n",
    "用 python 模仿写一个R中最简单的应用tensorflow框架建模的程序\n"
   ]
  },
  {
   "cell_type": "markdown",
   "metadata": {},
   "source": [
    "### 准备数据和环境"
   ]
  },
  {
   "cell_type": "code",
   "execution_count": 6,
   "metadata": {
    "collapsed": true
   },
   "outputs": [],
   "source": [
    "import tensorflow as tf\n",
    "import numpy as np\n",
    "import pandas as pd"
   ]
  },
  {
   "cell_type": "code",
   "execution_count": 16,
   "metadata": {
    "collapsed": false
   },
   "outputs": [
    {
     "name": "stdout",
     "output_type": "stream",
     "text": [
      "(100,)\n",
      "(100,)\n"
     ]
    }
   ],
   "source": [
    "x_data = np.random.uniform(size=100)\n",
    "print(x_data.shape)\n",
    "y_data = x_data * 0.1 + 0.3\n",
    "print(y_data.shape)"
   ]
  },
  {
   "cell_type": "markdown",
   "metadata": {},
   "source": [
    "### 构建图模型"
   ]
  },
  {
   "cell_type": "code",
   "execution_count": 28,
   "metadata": {
    "collapsed": false
   },
   "outputs": [],
   "source": [
    "## 模型\n",
    "W = tf.Variable(initial_value = tf.random_uniform(dtype=\"float\", maxval= 1.0, \n",
    "                                                 minval= -1.0, shape= (1,)))\n",
    "b = tf.Variable(initial_value = tf.zeros(shape= (1,)))\n",
    "y = W * x_data + b\n",
    "\n",
    "## 求解优化问题\n",
    "loss = tf.reduce_mean((y-y_data) ** 2)\n",
    "optimizer = tf.train.GradientDescentOptimizer(learning_rate=0.5)\n",
    "train = optimizer.minimize(loss)\n"
   ]
  },
  {
   "cell_type": "markdown",
   "metadata": {},
   "source": [
    "### 执行和运算模型"
   ]
  },
  {
   "cell_type": "code",
   "execution_count": 37,
   "metadata": {
    "collapsed": false
   },
   "outputs": [
    {
     "name": "stdout",
     "output_type": "stream",
     "text": [
      "0 - [-0.46271822] [ 0.54307586]\n",
      "20 - [-0.04784989] [ 0.38053757]\n",
      "40 - [ 0.05922204] [ 0.32221279]\n",
      "60 - [ 0.08875317] [ 0.30612645]\n",
      "80 - [ 0.09689804] [ 0.30168971]\n",
      "100 - [ 0.09914447] [ 0.30046603]\n",
      "120 - [ 0.09976405] [ 0.30012852]\n",
      "140 - [ 0.09993491] [ 0.30003545]\n",
      "160 - [ 0.09998207] [ 0.30000976]\n",
      "180 - [ 0.09999506] [ 0.30000269]\n"
     ]
    }
   ],
   "source": [
    "sess = tf.Session()\n",
    "sess.run(tf.global_variables_initializer())\n",
    "sess.run(train)\n",
    "sess.run(W)\n",
    "\n",
    "for step in range(200):\n",
    "    sess.run(train)\n",
    "    if(step % 20 == 0):\n",
    "        print('{step} - {slope} {intercept}'.format(step = step, slope = sess.run(W),\n",
    "                                                   intercept = sess.run(b)))"
   ]
  }
 ],
 "metadata": {
  "kernelspec": {
   "display_name": "Python 3",
   "language": "python",
   "name": "python3"
  },
  "language_info": {
   "codemirror_mode": {
    "name": "ipython",
    "version": 3
   },
   "file_extension": ".py",
   "mimetype": "text/x-python",
   "name": "python",
   "nbconvert_exporter": "python",
   "pygments_lexer": "ipython3",
   "version": "3.6.1"
  }
 },
 "nbformat": 4,
 "nbformat_minor": 2
}
