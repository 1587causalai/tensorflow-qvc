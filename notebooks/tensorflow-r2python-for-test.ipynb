{
 "cells": [
  {
   "cell_type": "markdown",
   "metadata": {},
   "source": [
    "# Tensorflow R to Python\n",
    "\n",
    "用 python 模仿写一个R中最简单的应用tensorflow框架建模的程序\n"
   ]
  },
  {
   "cell_type": "markdown",
   "metadata": {},
   "source": [
    "### 准备数据和环境"
   ]
  },
  {
   "cell_type": "code",
   "execution_count": 5,
   "metadata": {
    "collapsed": true
   },
   "outputs": [],
   "source": [
    "import tensorflow as tf\n",
    "import numpy as np\n",
    "import pandas as pd"
   ]
  },
  {
   "cell_type": "code",
   "execution_count": 6,
   "metadata": {
    "collapsed": false
   },
   "outputs": [
    {
     "name": "stdout",
     "output_type": "stream",
     "text": [
      "(100,)\n",
      "(100,)\n"
     ]
    }
   ],
   "source": [
    "x_data = np.random.uniform(size=100)\n",
    "print(x_data.shape)\n",
    "y_data = x_data * 0.1 + 0.3\n",
    "print(y_data.shape)"
   ]
  },
  {
   "cell_type": "markdown",
   "metadata": {},
   "source": [
    "### 构建图模型"
   ]
  },
  {
   "cell_type": "code",
   "execution_count": 7,
   "metadata": {
    "collapsed": false
   },
   "outputs": [],
   "source": [
    "## 模型\n",
    "W = tf.Variable(initial_value = tf.random_uniform(dtype=\"float\", maxval= 1.0, \n",
    "                                                 minval= -1.0, shape= (1,)))\n",
    "b = tf.Variable(initial_value = tf.zeros(shape= (1,)))\n",
    "y = W * x_data + b\n",
    "\n",
    "## 求解优化问题\n",
    "loss = tf.reduce_mean((y-y_data) ** 4)\n",
    "optimizer = tf.train.GradientDescentOptimizer(learning_rate=0.5)\n",
    "train = optimizer.minimize(loss)\n"
   ]
  },
  {
   "cell_type": "markdown",
   "metadata": {},
   "source": [
    "### 执行和运算模型"
   ]
  },
  {
   "cell_type": "code",
   "execution_count": 12,
   "metadata": {
    "collapsed": false
   },
   "outputs": [
    {
     "name": "stdout",
     "output_type": "stream",
     "text": [
      "0.000981998\n",
      "step =  0 : slope =  [ 0.57457346] intercept =  [ 0.01327546]\n",
      "step =  20 : slope =  [ 0.54390103] intercept =  [ 0.06175581]\n",
      "step =  40 : slope =  [ 0.51117706] intercept =  [ 0.08080731]\n",
      "step =  60 : slope =  [ 0.48440245] intercept =  [ 0.09519959]\n",
      "step =  80 : slope =  [ 0.46223992] intercept =  [ 0.1070208]\n",
      "step =  100 : slope =  [ 0.44352069] intercept =  [ 0.11699525]\n",
      "step =  120 : slope =  [ 0.4274379] intercept =  [ 0.12556346]\n",
      "step =  140 : slope =  [ 0.41342527] intercept =  [ 0.13302852]\n",
      "step =  160 : slope =  [ 0.40107325] intercept =  [ 0.13960885]\n",
      "step =  180 : slope =  [ 0.39007765] intercept =  [ 0.14546658]\n"
     ]
    }
   ],
   "source": [
    "sess = tf.Session()\n",
    "sess.run(tf.global_variables_initializer())\n",
    "sess.run(train)\n",
    "sess.run(W)\n",
    "print(sess.run(loss))\n",
    "\n",
    "for step in range(200):\n",
    "    sess.run(train)\n",
    "    if(step % 20 == 0):\n",
    "#        print('{step} - {slope} {intercept}'.format(step = step, slope = sess.run(W),\n",
    "#                                                   intercept = sess.run(b)))\n",
    "        print('step = ',step, ':', 'slope = ', sess.run(W), 'intercept = ', sess.run(b))"
   ]
  },
  {
   "cell_type": "code",
   "execution_count": null,
   "metadata": {
    "collapsed": true
   },
   "outputs": [],
   "source": []
  }
 ],
 "metadata": {
  "kernelspec": {
   "display_name": "Python 3",
   "language": "python",
   "name": "python3"
  },
  "language_info": {
   "codemirror_mode": {
    "name": "ipython",
    "version": 3
   },
   "file_extension": ".py",
   "mimetype": "text/x-python",
   "name": "python",
   "nbconvert_exporter": "python",
   "pygments_lexer": "ipython3",
   "version": "3.6.1"
  }
 },
 "nbformat": 4,
 "nbformat_minor": 2
}
